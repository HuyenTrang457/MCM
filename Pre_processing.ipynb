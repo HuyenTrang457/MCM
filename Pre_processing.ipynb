{
  "nbformat": 4,
  "nbformat_minor": 0,
  "metadata": {
    "colab": {
      "provenance": [],
      "include_colab_link": true
    },
    "kernelspec": {
      "name": "python3",
      "display_name": "Python 3"
    },
    "language_info": {
      "name": "python"
    }
  },
  "cells": [
    {
      "cell_type": "markdown",
      "metadata": {
        "id": "view-in-github",
        "colab_type": "text"
      },
      "source": [
        "<a href=\"https://colab.research.google.com/github/HuyenTrang457/MCM/blob/main/Pre_processing.ipynb\" target=\"_parent\"><img src=\"https://colab.research.google.com/assets/colab-badge.svg\" alt=\"Open In Colab\"/></a>"
      ]
    },
    {
      "cell_type": "code",
      "source": [
        "import pandas as pd\n",
        "import seaborn as sns\n",
        "import matplotlib.pyplot as plt\n",
        "import os\n",
        "from sklearn.preprocessing import MinMaxScaler\n"
      ],
      "metadata": {
        "id": "U25IBf0diSxK"
      },
      "execution_count": null,
      "outputs": []
    },
    {
      "cell_type": "markdown",
      "source": [
        "Clean Data:\n",
        "\n",
        "1. Xóa bỏ cột serve_width, serve_depth,  return_depth vì chúng tôi dường như không làm việc với chúng.\n",
        "2. Nhận thấy chỉ có speed_mph bị lẫn các giá trị NA vậy nên ta phải loại bỏ chúng\n",
        "3. Cột p1_point_won, p2_point_won chứa dữ liệu kiểu string, chúng tôi chuẩn hóa về dạng số( AD thành 50 điểm)\n",
        "4. Dùng biểu đồ box_plot để phát hiện các khoảng chứ outlier và lọc outlier.\n",
        "\n",
        "\n"
      ],
      "metadata": {
        "id": "4wC5fmoQiTGQ"
      }
    },
    {
      "cell_type": "code",
      "execution_count": null,
      "metadata": {
        "colab": {
          "base_uri": "https://localhost:8080/"
        },
        "id": "m_GBkqapdIJO",
        "outputId": "60ea1995-7b4c-4040-ce85-50438f816811"
      },
      "outputs": [
        {
          "output_type": "stream",
          "name": "stdout",
          "text": [
            "Biểu đồ boxplot đã được lưu vào thư mục: /content/boxplot_images\n"
          ]
        }
      ],
      "source": [
        "# 1. Đọc file CSV\n",
        "# Đọc dữ liệu từ file CSV gốc\n",
        "file_path = \"/content/Wimbledon_featured_matches .csv\"\n",
        "df = pd.read_csv(file_path)\n",
        "\n",
        "# 2. Xóa các cột không cần thiết\n",
        "# Xóa các cột không được sử dụng trong phân tích\n",
        "columns_to_drop = ['serve_width', 'serve_depth', 'return_depth']\n",
        "df.drop(columns=columns_to_drop, inplace=True)\n",
        "\n",
        "# 3. Loại bỏ các hàng có giá trị NA trong cột speed_mph\n",
        "# Xóa các hàng chứa giá trị bị thiếu (NA) trong cột speed_mph\n",
        "df = df.dropna(subset=['speed_mph'])\n",
        "\n",
        "# Áp dụng chuẩn hóa cho các cột p1_points_won và p2_points_won\n",
        "df['p1_points_won'] = df['p1_points_won'].apply(normalize_points)\n",
        "df['p2_points_won'] = df['p2_points_won'].apply(normalize_points)\n",
        "\n",
        "# Loại bỏ các hàng không hợp lệ sau khi chuẩn hóa\n",
        "df = df.dropna(subset=['p1_points_won', 'p2_points_won'])\n",
        "\n",
        "# 5. Vẽ biểu đồ boxplot để phát hiện và lọc outlier\n",
        "# Danh sách các cột cần kiểm tra outlier\n",
        "columns_to_analyze = [\"p1_distance_run\", \"p2_distance_run\", \"rally_count\", \"speed_mph\"]\n",
        "\n",
        "# Tạo thư mục để lưu các hình ảnh boxplot\n",
        "output_dir = \"/content/boxplot_images\"\n",
        "if not os.path.exists(output_dir):\n",
        "    os.makedirs(output_dir)\n",
        "\n",
        "# Vẽ boxplot và lưu hình ảnh\n",
        "for var in columns_to_analyze:\n",
        "    sns.boxplot(x=df[var], color=\"darkorange\")  # Màu cam cho boxplot\n",
        "    plt.title(f\"Boxplot of {var}\", fontsize=14)  # Tiêu đề boxplot\n",
        "    plt.xlabel(var, fontsize=12)  # Nhãn trục x\n",
        "    plt.grid(axis=\"x\", linestyle=\"--\", alpha=0.6)  # Thêm lưới để dễ quan sát\n",
        "    plt.savefig(f\"{output_dir}/{var}_boxplot.png\")  # Lưu hình ảnh vào thư mục\n",
        "    plt.close()\n",
        "\n",
        "print(f\"Biểu đồ boxplot đã được lưu vào thư mục: {output_dir}\")\n",
        "\n",
        "# 6. Lọc các giá trị ngoại lai (outlier)\n",
        "# Giữ lại các hàng với điều kiện lọc outlier cho từng cột\n",
        "df = df[\n",
        "    (df['p1_distance_run'] <= 100) &\n",
        "    (df['p2_distance_run'] <= 100) &\n",
        "    (df['rally_count'] <= 20) &\n",
        "    (df['speed_mph'] >= 80)\n",
        "]\n",
        "\n",
        "# Tạo thư mục để lưu hình ảnh boxplot sau khi lọc\n",
        "output_dir1 = \"/content/boxplot_images1\"\n",
        "if not os.path.exists(output_dir1):\n",
        "    os.makedirs(output_dir1)\n",
        "\n",
        "# Vẽ lại boxplot và lưu hình ảnh sau khi lọc\n",
        "for var in columns_to_analyze:\n",
        "    sns.boxplot(x=df[var], color=\"darkorange\")  # Màu cam cho boxplot\n",
        "    plt.title(f\"Boxplot of {var} (After Filtering)\", fontsize=14)  # Tiêu đề boxplot\n",
        "    plt.xlabel(var, fontsize=12)  # Nhãn trục x\n",
        "    plt.grid(axis=\"x\", linestyle=\"--\", alpha=0.6)  # Thêm lưới để dễ quan sát\n",
        "    plt.savefig(f\"{output_dir1}/{var}_boxplot.png\")  # Lưu hình ảnh vào thư mục\n",
        "    plt.close()"
      ]
    },
    {
      "cell_type": "markdown",
      "source": [
        "Standardization of data by min_max_scaler"
      ],
      "metadata": {
        "id": "hyCsXf9Nm3h3"
      }
    },
    {
      "cell_type": "code",
      "source": [
        "columns_to_scale = ['p1_distance_run', 'p2_distance_run', 'rally_count',\n",
        "                    'speed_mph', 'p1_points_won', 'p2_points_won']\n",
        "scaler = MinMaxScaler()\n",
        "\n",
        "# Chuẩn hóa các cột\n",
        "df[columns_to_scale] = scaler.fit_transform(df[columns_to_scale])\n",
        "# Lưu file CSV sau khi xử lý\n",
        "# Ghi dữ liệu đã xử lý vào file CSV mới\n",
        "output_file_path = \"/content/Wimbledon_featured_matches_cleaned.csv\"\n",
        "df.to_csv(output_file_path, index=False)"
      ],
      "metadata": {
        "id": "ZzooVVOKtKAZ"
      },
      "execution_count": null,
      "outputs": []
    },
    {
      "cell_type": "code",
      "source": [],
      "metadata": {
        "id": "HtbvYXNm7hAB"
      },
      "execution_count": null,
      "outputs": []
    }
  ]
}